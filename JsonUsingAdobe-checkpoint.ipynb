{
 "cells": [
  {
   "cell_type": "raw",
   "id": "2a4998fa",
   "metadata": {},
   "source": [
    "pip install -r requirements.txt"
   ]
  },
  {
   "cell_type": "raw",
   "id": "db4c5d34",
   "metadata": {},
   "source": [
    "pip install adobe"
   ]
  },
  {
   "cell_type": "code",
   "execution_count": 1,
   "id": "30c53d76",
   "metadata": {},
   "outputs": [],
   "source": [
    "import logging\n",
    "import os.path"
   ]
  },
  {
   "cell_type": "code",
   "execution_count": 2,
   "id": "7e69a5c3",
   "metadata": {},
   "outputs": [],
   "source": [
    "from adobe.pdfservices.operation.auth.credentials import Credentials\n",
    "from adobe.pdfservices.operation.exception.exceptions import ServiceApiException, ServiceUsageException, SdkException\n",
    "from adobe.pdfservices.operation.pdfops.options.extractpdf.extract_pdf_options import ExtractPDFOptions\n",
    "from adobe.pdfservices.operation.pdfops.options.extractpdf.extract_element_type import ExtractElementType\n",
    "from adobe.pdfservices.operation.pdfops.options.extractpdf.extract_renditions_element_type import ExtractRenditionsElementType\n",
    "from adobe.pdfservices.operation.pdfops.options.extractpdf.table_structure_type import TableStructureType\n",
    "from adobe.pdfservices.operation.execution_context import ExecutionContext\n",
    "from adobe.pdfservices.operation.io.file_ref import FileRef\n",
    "from adobe.pdfservices.operation.pdfops.extract_pdf_operation import ExtractPDFOperation\n"
   ]
  },
  {
   "cell_type": "code",
   "execution_count": 3,
   "id": "3381676f",
   "metadata": {},
   "outputs": [],
   "source": [
    "logging.basicConfig(level=os.environ.get(\"LOGLEVEL\", \"INFO\"))"
   ]
  },
  {
   "cell_type": "code",
   "execution_count": 4,
   "id": "0684d24d",
   "metadata": {},
   "outputs": [
    {
     "name": "stdout",
     "output_type": "stream",
     "text": [
      "C:\\\n"
     ]
    }
   ],
   "source": [
    "# get base path.\n",
    "base_path = os.path.dirname(os.path.dirname(os.path.dirname(os.path.abspath(''))))\n",
    "print(base_path)"
   ]
  },
  {
   "cell_type": "code",
   "execution_count": 5,
   "id": "56fb34f7",
   "metadata": {},
   "outputs": [],
   "source": [
    " # Initial setup, create credentials instance.\n",
    "credentials = Credentials.service_account_credentials_builder() \\\n",
    "        .from_file(base_path + \"pdfservices-api-credentials.json\") \\\n",
    "        .build()"
   ]
  },
  {
   "cell_type": "code",
   "execution_count": 6,
   "id": "41f54254",
   "metadata": {},
   "outputs": [],
   "source": [
    "# Create an ExecutionContext using credentials and create a new operation instance.\n",
    "execution_context = ExecutionContext.create(credentials)\n",
    "extract_pdf_operation = ExtractPDFOperation.create_new()"
   ]
  },
  {
   "cell_type": "code",
   "execution_count": 7,
   "id": "13d543ac",
   "metadata": {},
   "outputs": [
    {
     "data": {
      "text/plain": [
       "<adobe.pdfservices.operation.pdfops.extract_pdf_operation.ExtractPDFOperation at 0x28677eb17f0>"
      ]
     },
     "execution_count": 7,
     "metadata": {},
     "output_type": "execute_result"
    }
   ],
   "source": [
    "# Set operation input from a source file.\n",
    "source = FileRef.create_from_local_file(base_path + \"cch_orientation_paper_-_final-public_version.pdf\")\n",
    "extract_pdf_operation.set_input(source)"
   ]
  },
  {
   "cell_type": "code",
   "execution_count": 8,
   "id": "f057d9de",
   "metadata": {},
   "outputs": [
    {
     "data": {
      "text/plain": [
       "<adobe.pdfservices.operation.pdfops.extract_pdf_operation.ExtractPDFOperation at 0x28677eb17f0>"
      ]
     },
     "execution_count": 8,
     "metadata": {},
     "output_type": "execute_result"
    }
   ],
   "source": [
    "# Build ExtractPDF options and set them into the operation\n",
    "\n",
    "# extract_pdf_options: ExtractPDFOptions = ExtractPDFOptions.builder() \\\n",
    "#         .with_elements_to_extract([ExtractElementType.TEXT, ExtractElementType.TABLES]) \\\n",
    "#         .with_element_to_extract_renditions(ExtractRenditionsElementType.TABLES) \\\n",
    "#         .with_table_structure_format(TableStructureType.CSV) \\\n",
    "#         .build()\n",
    "# extract_pdf_operation.set_options(extract_pdf_options)\n",
    "\n",
    "extract_pdf_options: ExtractPDFOptions = ExtractPDFOptions.builder() \\\n",
    "             .with_element_to_extract(ExtractElementType.TEXT) \\\n",
    "             .build()\n",
    "extract_pdf_operation.set_options(extract_pdf_options)"
   ]
  },
  {
   "cell_type": "code",
   "execution_count": 9,
   "id": "a936cf5d",
   "metadata": {},
   "outputs": [
    {
     "name": "stderr",
     "output_type": "stream",
     "text": [
      "INFO:adobe.pdfservices.operation.pdfops.extract_pdf_operation:All validations successfully done. Beginning ExtractPDF operation execution\n",
      "INFO:adobe.pdfservices.operation.pdfops.extract_pdf_operation:Extract Operation Successful - Transaction ID: GoN52VAQZeYcfg6QKegvbkAFmFt2POdk\n"
     ]
    }
   ],
   "source": [
    "# Execute the operation.\n",
    "result: FileRef = extract_pdf_operation.execute(execution_context)"
   ]
  },
  {
   "cell_type": "code",
   "execution_count": 12,
   "id": "3af6ec00",
   "metadata": {},
   "outputs": [
    {
     "name": "stderr",
     "output_type": "stream",
     "text": [
      "INFO:adobe.pdfservices.operation.internal.io.file_ref_impl:Moving file at C:\\Users\\ADMINI~1\\AppData\\Local\\Temp\\extractSdkResult\\df485262c16011ec98998c1645bd3e00.zip to target C:\\PdfJSONContent.zip\n"
     ]
    }
   ],
   "source": [
    "# Save the result to the specified location.\n",
    "result.save_as(base_path + \"PdfJSONContent.zip\")"
   ]
  },
  {
   "cell_type": "code",
   "execution_count": null,
   "id": "b47cf06c",
   "metadata": {},
   "outputs": [],
   "source": []
  }
 ],
 "metadata": {
  "kernelspec": {
   "display_name": "Python 3 (ipykernel)",
   "language": "python",
   "name": "python3"
  },
  "language_info": {
   "codemirror_mode": {
    "name": "ipython",
    "version": 3
   },
   "file_extension": ".py",
   "mimetype": "text/x-python",
   "name": "python",
   "nbconvert_exporter": "python",
   "pygments_lexer": "ipython3",
   "version": "3.9.7"
  }
 },
 "nbformat": 4,
 "nbformat_minor": 5
}
